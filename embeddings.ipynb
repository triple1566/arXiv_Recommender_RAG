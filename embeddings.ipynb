{
 "cells": [
  {
   "cell_type": "markdown",
   "metadata": {},
   "source": [
    "# Import Dataset from kaggle"
   ]
  },
  {
   "cell_type": "code",
   "execution_count": 1,
   "metadata": {},
   "outputs": [
    {
     "name": "stdout",
     "output_type": "stream",
     "text": [
      "Path to dataset files: /Users/leopard1566/.cache/kagglehub/datasets/Cornell-University/arxiv/versions/222\n"
     ]
    }
   ],
   "source": [
    "import kagglehub\n",
    "\n",
    "# Download latest version\n",
    "path = kagglehub.dataset_download(\"Cornell-University/arxiv\")\n",
    "\n",
    "print(\"Path to dataset files:\", path)"
   ]
  },
  {
   "cell_type": "markdown",
   "metadata": {},
   "source": [
    "# Read into Pandas DataFrame"
   ]
  },
  {
   "cell_type": "code",
   "execution_count": 2,
   "metadata": {},
   "outputs": [
    {
     "name": "stdout",
     "output_type": "stream",
     "text": [
      "          id           submitter  \\\n",
      "0  0704.0001      Pavel Nadolsky   \n",
      "1  0704.0002        Louis Theran   \n",
      "2  0704.0003         Hongjun Pan   \n",
      "3  0704.0004        David Callan   \n",
      "4  0704.0005  Alberto Torchinsky   \n",
      "\n",
      "                                             authors  \\\n",
      "0  C. Bal\\'azs, E. L. Berger, P. M. Nadolsky, C.-...   \n",
      "1                    Ileana Streinu and Louis Theran   \n",
      "2                                        Hongjun Pan   \n",
      "3                                       David Callan   \n",
      "4           Wael Abu-Shammala and Alberto Torchinsky   \n",
      "\n",
      "                                               title  \\\n",
      "0  Calculation of prompt diphoton production cros...   \n",
      "1           Sparsity-certifying Graph Decompositions   \n",
      "2  The evolution of the Earth-Moon system based o...   \n",
      "3  A determinant of Stirling cycle numbers counts...   \n",
      "4  From dyadic $\\Lambda_{\\alpha}$ to $\\Lambda_{\\a...   \n",
      "\n",
      "                                  comments  \\\n",
      "0  37 pages, 15 figures; published version   \n",
      "1    To appear in Graphs and Combinatorics   \n",
      "2                      23 pages, 3 figures   \n",
      "3                                 11 pages   \n",
      "4                                     None   \n",
      "\n",
      "                                 journal-ref                         doi  \\\n",
      "0                   Phys.Rev.D76:013009,2007  10.1103/PhysRevD.76.013009   \n",
      "1                                       None                        None   \n",
      "2                                       None                        None   \n",
      "3                                       None                        None   \n",
      "4  Illinois J. Math. 52 (2008) no.2, 681-689                        None   \n",
      "\n",
      "          report-no       categories  \\\n",
      "0  ANL-HEP-PR-07-12           hep-ph   \n",
      "1              None    math.CO cs.CG   \n",
      "2              None   physics.gen-ph   \n",
      "3              None          math.CO   \n",
      "4              None  math.CA math.FA   \n",
      "\n",
      "                                             license  \\\n",
      "0                                               None   \n",
      "1  http://arxiv.org/licenses/nonexclusive-distrib...   \n",
      "2                                               None   \n",
      "3                                               None   \n",
      "4                                               None   \n",
      "\n",
      "                                            abstract  \\\n",
      "0    A fully differential calculation in perturba...   \n",
      "1    We describe a new algorithm, the $(k,\\ell)$-...   \n",
      "2    The evolution of Earth-Moon system is descri...   \n",
      "3    We show that a determinant of Stirling cycle...   \n",
      "4    In this paper we show how to compute the $\\L...   \n",
      "\n",
      "                                            versions update_date  \\\n",
      "0  [{'version': 'v1', 'created': 'Mon, 2 Apr 2007...  2008-11-26   \n",
      "1  [{'version': 'v1', 'created': 'Sat, 31 Mar 200...  2008-12-13   \n",
      "2  [{'version': 'v1', 'created': 'Sun, 1 Apr 2007...  2008-01-13   \n",
      "3  [{'version': 'v1', 'created': 'Sat, 31 Mar 200...  2007-05-23   \n",
      "4  [{'version': 'v1', 'created': 'Mon, 2 Apr 2007...  2013-10-15   \n",
      "\n",
      "                                      authors_parsed  \n",
      "0  [[Balázs, C., ], [Berger, E. L., ], [Nadolsky,...  \n",
      "1           [[Streinu, Ileana, ], [Theran, Louis, ]]  \n",
      "2                                 [[Pan, Hongjun, ]]  \n",
      "3                                [[Callan, David, ]]  \n",
      "4  [[Abu-Shammala, Wael, ], [Torchinsky, Alberto, ]]  \n"
     ]
    }
   ],
   "source": [
    "import pandas as pd\n",
    "df = pd.read_json(path+'/arxiv-metadata-oai-snapshot.json', lines=True)\n",
    "print(df.head())"
   ]
  },
  {
   "cell_type": "markdown",
   "metadata": {},
   "source": [
    "# Check for NAN in categories"
   ]
  },
  {
   "cell_type": "code",
   "execution_count": 3,
   "metadata": {},
   "outputs": [
    {
     "name": "stdout",
     "output_type": "stream",
     "text": [
      "          id           submitter  \\\n",
      "0  0704.0001      Pavel Nadolsky   \n",
      "1  0704.0002        Louis Theran   \n",
      "2  0704.0003         Hongjun Pan   \n",
      "3  0704.0004        David Callan   \n",
      "4  0704.0005  Alberto Torchinsky   \n",
      "\n",
      "                                             authors  \\\n",
      "0  C. Bal\\'azs, E. L. Berger, P. M. Nadolsky, C.-...   \n",
      "1                    Ileana Streinu and Louis Theran   \n",
      "2                                        Hongjun Pan   \n",
      "3                                       David Callan   \n",
      "4           Wael Abu-Shammala and Alberto Torchinsky   \n",
      "\n",
      "                                               title  \\\n",
      "0  Calculation of prompt diphoton production cros...   \n",
      "1           Sparsity-certifying Graph Decompositions   \n",
      "2  The evolution of the Earth-Moon system based o...   \n",
      "3  A determinant of Stirling cycle numbers counts...   \n",
      "4  From dyadic $\\Lambda_{\\alpha}$ to $\\Lambda_{\\a...   \n",
      "\n",
      "                                  comments  \\\n",
      "0  37 pages, 15 figures; published version   \n",
      "1    To appear in Graphs and Combinatorics   \n",
      "2                      23 pages, 3 figures   \n",
      "3                                 11 pages   \n",
      "4                                     None   \n",
      "\n",
      "                                 journal-ref                         doi  \\\n",
      "0                   Phys.Rev.D76:013009,2007  10.1103/PhysRevD.76.013009   \n",
      "1                                       None                        None   \n",
      "2                                       None                        None   \n",
      "3                                       None                        None   \n",
      "4  Illinois J. Math. 52 (2008) no.2, 681-689                        None   \n",
      "\n",
      "          report-no       categories  \\\n",
      "0  ANL-HEP-PR-07-12           hep-ph   \n",
      "1              None    math.CO cs.CG   \n",
      "2              None   physics.gen-ph   \n",
      "3              None          math.CO   \n",
      "4              None  math.CA math.FA   \n",
      "\n",
      "                                             license  \\\n",
      "0                                               None   \n",
      "1  http://arxiv.org/licenses/nonexclusive-distrib...   \n",
      "2                                               None   \n",
      "3                                               None   \n",
      "4                                               None   \n",
      "\n",
      "                                            abstract  \\\n",
      "0    A fully differential calculation in perturba...   \n",
      "1    We describe a new algorithm, the $(k,\\ell)$-...   \n",
      "2    The evolution of Earth-Moon system is descri...   \n",
      "3    We show that a determinant of Stirling cycle...   \n",
      "4    In this paper we show how to compute the $\\L...   \n",
      "\n",
      "                                            versions update_date  \\\n",
      "0  [{'version': 'v1', 'created': 'Mon, 2 Apr 2007...  2008-11-26   \n",
      "1  [{'version': 'v1', 'created': 'Sat, 31 Mar 200...  2008-12-13   \n",
      "2  [{'version': 'v1', 'created': 'Sun, 1 Apr 2007...  2008-01-13   \n",
      "3  [{'version': 'v1', 'created': 'Sat, 31 Mar 200...  2007-05-23   \n",
      "4  [{'version': 'v1', 'created': 'Mon, 2 Apr 2007...  2013-10-15   \n",
      "\n",
      "                                      authors_parsed  \n",
      "0  [[Balázs, C., ], [Berger, E. L., ], [Nadolsky,...  \n",
      "1           [[Streinu, Ileana, ], [Theran, Louis, ]]  \n",
      "2                                 [[Pan, Hongjun, ]]  \n",
      "3                                [[Callan, David, ]]  \n",
      "4  [[Abu-Shammala, Wael, ], [Torchinsky, Alberto, ]]  \n"
     ]
    }
   ],
   "source": [
    "df = df[df['categories'].notna()]\n",
    "print(df.head())"
   ]
  },
  {
   "cell_type": "markdown",
   "metadata": {},
   "source": [
    "# Import Vector Database and Model"
   ]
  },
  {
   "cell_type": "code",
   "execution_count": 4,
   "metadata": {},
   "outputs": [],
   "source": [
    "from qdrant_client import models, QdrantClient\n",
    "from sentence_transformers import SentenceTransformer"
   ]
  },
  {
   "cell_type": "markdown",
   "metadata": {},
   "source": [
    "# Create vector database client and model client"
   ]
  },
  {
   "cell_type": "code",
   "execution_count": 20,
   "metadata": {},
   "outputs": [],
   "source": [
    "model_encoder = SentenceTransformer('all-MiniLM-L6-v2')\n",
    "qdrant_client = QdrantClient(\":memory:\")"
   ]
  },
  {
   "cell_type": "markdown",
   "metadata": {},
   "source": [
    "Create collection to store "
   ]
  },
  {
   "cell_type": "code",
   "execution_count": 28,
   "metadata": {},
   "outputs": [
    {
     "name": "stdout",
     "output_type": "stream",
     "text": [
      "arxiv collection created successfully\n"
     ]
    },
    {
     "name": "stderr",
     "output_type": "stream",
     "text": [
      "/var/folders/w0/38fq1b_56633crmw8l8q9mgw0000gn/T/ipykernel_77753/3731503120.py:1: DeprecationWarning: `recreate_collection` method is deprecated and will be removed in the future. Use `collection_exists` to check collection existence and `create_collection` instead.\n",
      "  qdrant_client.recreate_collection(\n"
     ]
    }
   ],
   "source": [
    "qdrant_client.recreate_collection(\n",
    "    collection_name = \"arxiv\",\n",
    "    vectors_config = models.VectorParams(\n",
    "        #Note that for our model, this vector size is 384\n",
    "        size=model_encoder.get_sentence_embedding_dimension(),\n",
    "        distance=models.Distance.COSINE\n",
    "    )\n",
    ")\n",
    "if qdrant_client.collection_exists(collection_name=\"arxiv\"):\n",
    "    print(\"arxiv collection created successfully\")"
   ]
  },
  {
   "cell_type": "markdown",
   "metadata": {},
   "source": [
    "# Insert quadrant data into collection\n",
    "- Note to self: qdrant_client.upsert is used for bulk upload of points, while qdrant_client.insert is used for single point upload\n",
    "\n",
    "- Before uploading the vectorized data, we load the dataframe into a key value pair dictionary to enable convenient iteration."
   ]
  },
  {
   "cell_type": "code",
   "execution_count": 50,
   "metadata": {},
   "outputs": [],
   "source": [
    "#Convert the WHOLE dataframe to a dictionary\n",
    "#data_in_dict = df.to_dict(orient='records')\n",
    "\n",
    "#Convert sample of the dataframe to a dictionary\n",
    "data_in_dict = df.head(5000).to_dict(orient='records')\n",
    "\n",
    "qdrant_client.upload_points(\n",
    "    collection_name = \"arxiv\",\n",
    "    points=[\n",
    "        models.PointStruct(\n",
    "            id = index,\n",
    "            payload=doc,\n",
    "            vector = model_encoder.encode(doc[\"abstract\"]),\n",
    "        )for index, doc in enumerate(data_in_dict)\n",
    "    ]\n",
    ")"
   ]
  },
  {
   "cell_type": "markdown",
   "metadata": {},
   "source": [
    "# Query"
   ]
  },
  {
   "cell_type": "code",
   "execution_count": null,
   "metadata": {},
   "outputs": [],
   "source": [
    "user_prompt = \"I want a research paper that focuses on Graphics\"\n",
    "limit_search_to = 10\n",
    "#This will later be read from the user when the app is running on flask\n",
    "\n",
    "query_prompt = \"You are an AI agent searching for arXiv papers based on the following instructions: \"+user_prompt"
   ]
  },
  {
   "cell_type": "code",
   "execution_count": 67,
   "metadata": {},
   "outputs": [
    {
     "name": "stdout",
     "output_type": "stream",
     "text": [
      "TITLE: Generating Unexpected Spin Echoes in Dipolar Solids with Pi Pulses\n",
      "\n",
      " arXivID: 0705.0620\n",
      "\n",
      " AUTHORS: Dale Li, A. E. Dementyev, Yanqun Dong, R. G. Ramos, and S. E. Barrett\n",
      "\n",
      " ABSTRACT:   This submission has been withdrawn by arXiv administrators because it is a\n",
      "duplicate of 0705.0667....\n",
      "\n",
      " ============break==========\n",
      "\n",
      "TITLE: Metal and molecule cooling in simulations of structure formation\n",
      "\n",
      " arXivID: 0704.2186\n",
      "\n",
      " AUTHORS: U. Maio, K. Dolag, B. Ciardi, L. Tornatore\n",
      "\n",
      " ABSTRACT:   This submission has been withdrawn by arXiv administrators because it is a\n",
      "duplicate of 0704.2182....\n",
      "\n",
      " ============break==========\n",
      "\n",
      "TITLE: Gravity-induced electric polarization of matter and planetary magnetic\n",
      "  fields\n",
      "\n",
      " arXivID: 0704.0374\n",
      "\n",
      " AUTHORS: Boris A. Zon, Igor Yu. Kretinin\n",
      "\n",
      " ABSTRACT:   This paper has been withdrawn due to copyright reasons.\n",
      "...\n",
      "\n",
      " ============break==========\n",
      "\n",
      "TITLE: Optimal time evolution in (non)hermitian quantum mechanics\n",
      "\n",
      " arXivID: 0704.3677\n",
      "\n",
      " AUTHORS: Pulak Ranjan Giri\n",
      "\n",
      " ABSTRACT:   This paper has been withdrawn by the author\n",
      "...\n",
      "\n",
      " ============break==========\n",
      "\n",
      "TITLE: A new proof of the Beez-Cartan theorem\n",
      "\n",
      " arXivID: 0704.3767\n",
      "\n",
      " AUTHORS: Javier Fresan\n",
      "\n",
      " ABSTRACT:   This paper has been withdrawn by the author.\n",
      "...\n",
      "\n",
      " ============break==========\n",
      "\n",
      "TITLE: Nonlinear force-free coronal magnetic field extrapolation scheme based\n",
      "  on the direct boundary integral formulation\n",
      "\n",
      " arXivID: 0704.0156\n",
      "\n",
      " AUTHORS: Han He, Huaning Wang\n",
      "\n",
      " ABSTRACT:   This paper has been withdrawn by the authors.\n",
      "...\n",
      "\n",
      " ============break==========\n",
      "\n",
      "TITLE: On the Energy-Momentum Problem in Static Einstein Universe\n",
      "\n",
      " arXivID: 0704.0525\n",
      "\n",
      " AUTHORS: Sezgin Aygun, Ismail Tarhan, Husnu Baysal\n",
      "\n",
      " ABSTRACT:   This paper has been removed by arXiv administrators because it plagiarizes\n",
      "gr-qc/0410004, gr-qc/06...\n",
      "\n",
      " ============break==========\n",
      "\n",
      "TITLE: The solutions of the N-identical quantum harmonic oscillators\n",
      "  interacting with each other through the harmonic potential\n",
      "\n",
      " arXivID: 0704.1080\n",
      "\n",
      " AUTHORS: Phongpichit Channuie\n",
      "\n",
      " ABSTRACT:   This paper has been withdrawn by the author due to some mistakes\n",
      "...\n",
      "\n",
      " ============break==========\n",
      "\n",
      "TITLE: Preconditioned Temporal Difference Learning\n",
      "\n",
      " arXivID: 0704.1409\n",
      "\n",
      " AUTHORS: Yao HengShuai\n",
      "\n",
      " ABSTRACT:   This paper has been withdrawn by the author. This draft is withdrawn for its\n",
      "poor quality in engli...\n",
      "\n",
      " ============break==========\n",
      "\n",
      "TITLE: Using Access Data for Paper Recommendations on ArXiv.org\n",
      "\n",
      " arXivID: 0704.2963\n",
      "\n",
      " AUTHORS: Stefan Pohl\n",
      "\n",
      " ABSTRACT:   This thesis investigates in the use of access log data as a source of\n",
      "information for identifying ...\n",
      "\n",
      " ============break==========\n",
      "\n"
     ]
    },
    {
     "name": "stderr",
     "output_type": "stream",
     "text": [
      "/var/folders/w0/38fq1b_56633crmw8l8q9mgw0000gn/T/ipykernel_77753/122301538.py:2: DeprecationWarning: `search` method is deprecated and will be removed in the future. Use `query_points` instead.\n",
      "  hits = qdrant_client.search(\n"
     ]
    }
   ],
   "source": [
    "#Search based on user prompt\n",
    "hits = qdrant_client.search(\n",
    "    collection_name = \"arxiv\",\n",
    "    query_vector=model_encoder.encode(query_prompt),\n",
    "    limit=limit_search_to\n",
    ")\n",
    "#Print Queried Outputs\n",
    "for hit in hits:\n",
    "    print(\"TITLE: \"+hit.payload[\"title\"]+'\\n\\n', \"arXivID: \"+hit.payload[\"id\"]+'\\n\\n', \"AUTHORS: \"+hit.payload[\"authors\"]+'\\n\\n', \"ABSTRACT: \"+hit.payload[\"abstract\"][0:100]+ '...' + '\\n\\n', '============break==========\\n')\n"
   ]
  },
  {
   "cell_type": "code",
   "execution_count": null,
   "metadata": {},
   "outputs": [],
   "source": []
  }
 ],
 "metadata": {
  "kernelspec": {
   "display_name": "venv",
   "language": "python",
   "name": "python3"
  },
  "language_info": {
   "codemirror_mode": {
    "name": "ipython",
    "version": 3
   },
   "file_extension": ".py",
   "mimetype": "text/x-python",
   "name": "python",
   "nbconvert_exporter": "python",
   "pygments_lexer": "ipython3",
   "version": "3.13.0"
  }
 },
 "nbformat": 4,
 "nbformat_minor": 2
}
