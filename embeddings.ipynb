{
 "cells": [
  {
   "cell_type": "markdown",
   "metadata": {},
   "source": [
    "# Import Dataset from kaggle"
   ]
  },
  {
   "cell_type": "code",
   "execution_count": 1,
   "metadata": {},
   "outputs": [
    {
     "name": "stdout",
     "output_type": "stream",
     "text": [
      "Path to dataset files: /Users/leopard1566/.cache/kagglehub/datasets/Cornell-University/arxiv/versions/222\n"
     ]
    }
   ],
   "source": [
    "import kagglehub\n",
    "\n",
    "# Download latest version\n",
    "path = kagglehub.dataset_download(\"Cornell-University/arxiv\")\n",
    "\n",
    "print(\"Path to dataset files:\", path)"
   ]
  },
  {
   "cell_type": "markdown",
   "metadata": {},
   "source": [
    "# Read into Pandas DataFrame"
   ]
  },
  {
   "cell_type": "code",
   "execution_count": 2,
   "metadata": {},
   "outputs": [
    {
     "name": "stdout",
     "output_type": "stream",
     "text": [
      "          id           submitter  \\\n",
      "0  0704.0001      Pavel Nadolsky   \n",
      "1  0704.0002        Louis Theran   \n",
      "2  0704.0003         Hongjun Pan   \n",
      "3  0704.0004        David Callan   \n",
      "4  0704.0005  Alberto Torchinsky   \n",
      "\n",
      "                                             authors  \\\n",
      "0  C. Bal\\'azs, E. L. Berger, P. M. Nadolsky, C.-...   \n",
      "1                    Ileana Streinu and Louis Theran   \n",
      "2                                        Hongjun Pan   \n",
      "3                                       David Callan   \n",
      "4           Wael Abu-Shammala and Alberto Torchinsky   \n",
      "\n",
      "                                               title  \\\n",
      "0  Calculation of prompt diphoton production cros...   \n",
      "1           Sparsity-certifying Graph Decompositions   \n",
      "2  The evolution of the Earth-Moon system based o...   \n",
      "3  A determinant of Stirling cycle numbers counts...   \n",
      "4  From dyadic $\\Lambda_{\\alpha}$ to $\\Lambda_{\\a...   \n",
      "\n",
      "                                  comments  \\\n",
      "0  37 pages, 15 figures; published version   \n",
      "1    To appear in Graphs and Combinatorics   \n",
      "2                      23 pages, 3 figures   \n",
      "3                                 11 pages   \n",
      "4                                     None   \n",
      "\n",
      "                                 journal-ref                         doi  \\\n",
      "0                   Phys.Rev.D76:013009,2007  10.1103/PhysRevD.76.013009   \n",
      "1                                       None                        None   \n",
      "2                                       None                        None   \n",
      "3                                       None                        None   \n",
      "4  Illinois J. Math. 52 (2008) no.2, 681-689                        None   \n",
      "\n",
      "          report-no       categories  \\\n",
      "0  ANL-HEP-PR-07-12           hep-ph   \n",
      "1              None    math.CO cs.CG   \n",
      "2              None   physics.gen-ph   \n",
      "3              None          math.CO   \n",
      "4              None  math.CA math.FA   \n",
      "\n",
      "                                             license  \\\n",
      "0                                               None   \n",
      "1  http://arxiv.org/licenses/nonexclusive-distrib...   \n",
      "2                                               None   \n",
      "3                                               None   \n",
      "4                                               None   \n",
      "\n",
      "                                            abstract  \\\n",
      "0    A fully differential calculation in perturba...   \n",
      "1    We describe a new algorithm, the $(k,\\ell)$-...   \n",
      "2    The evolution of Earth-Moon system is descri...   \n",
      "3    We show that a determinant of Stirling cycle...   \n",
      "4    In this paper we show how to compute the $\\L...   \n",
      "\n",
      "                                            versions update_date  \\\n",
      "0  [{'version': 'v1', 'created': 'Mon, 2 Apr 2007...  2008-11-26   \n",
      "1  [{'version': 'v1', 'created': 'Sat, 31 Mar 200...  2008-12-13   \n",
      "2  [{'version': 'v1', 'created': 'Sun, 1 Apr 2007...  2008-01-13   \n",
      "3  [{'version': 'v1', 'created': 'Sat, 31 Mar 200...  2007-05-23   \n",
      "4  [{'version': 'v1', 'created': 'Mon, 2 Apr 2007...  2013-10-15   \n",
      "\n",
      "                                      authors_parsed  \n",
      "0  [[Balázs, C., ], [Berger, E. L., ], [Nadolsky,...  \n",
      "1           [[Streinu, Ileana, ], [Theran, Louis, ]]  \n",
      "2                                 [[Pan, Hongjun, ]]  \n",
      "3                                [[Callan, David, ]]  \n",
      "4  [[Abu-Shammala, Wael, ], [Torchinsky, Alberto, ]]  \n"
     ]
    }
   ],
   "source": [
    "import pandas as pd\n",
    "df = pd.read_json(path+'/arxiv-metadata-oai-snapshot.json', lines=True)\n",
    "print(df.head())"
   ]
  },
  {
   "cell_type": "markdown",
   "metadata": {},
   "source": [
    "# Preprocess Data"
   ]
  },
  {
   "cell_type": "code",
   "execution_count": 3,
   "metadata": {},
   "outputs": [
    {
     "name": "stdout",
     "output_type": "stream",
     "text": [
      "          id           submitter  \\\n",
      "0  0704.0001      Pavel Nadolsky   \n",
      "1  0704.0002        Louis Theran   \n",
      "2  0704.0003         Hongjun Pan   \n",
      "3  0704.0004        David Callan   \n",
      "4  0704.0005  Alberto Torchinsky   \n",
      "\n",
      "                                             authors  \\\n",
      "0  C. Bal\\'azs, E. L. Berger, P. M. Nadolsky, C.-...   \n",
      "1                    Ileana Streinu and Louis Theran   \n",
      "2                                        Hongjun Pan   \n",
      "3                                       David Callan   \n",
      "4           Wael Abu-Shammala and Alberto Torchinsky   \n",
      "\n",
      "                                               title  \\\n",
      "0  Calculation of prompt diphoton production cros...   \n",
      "1           Sparsity-certifying Graph Decompositions   \n",
      "2  The evolution of the Earth-Moon system based o...   \n",
      "3  A determinant of Stirling cycle numbers counts...   \n",
      "4  From dyadic $\\Lambda_{\\alpha}$ to $\\Lambda_{\\a...   \n",
      "\n",
      "                                  comments  \\\n",
      "0  37 pages, 15 figures; published version   \n",
      "1    To appear in Graphs and Combinatorics   \n",
      "2                      23 pages, 3 figures   \n",
      "3                                 11 pages   \n",
      "4                                     None   \n",
      "\n",
      "                                 journal-ref                         doi  \\\n",
      "0                   Phys.Rev.D76:013009,2007  10.1103/PhysRevD.76.013009   \n",
      "1                                       None                        None   \n",
      "2                                       None                        None   \n",
      "3                                       None                        None   \n",
      "4  Illinois J. Math. 52 (2008) no.2, 681-689                        None   \n",
      "\n",
      "          report-no       categories  \\\n",
      "0  ANL-HEP-PR-07-12           hep-ph   \n",
      "1              None    math.CO cs.CG   \n",
      "2              None   physics.gen-ph   \n",
      "3              None          math.CO   \n",
      "4              None  math.CA math.FA   \n",
      "\n",
      "                                             license  \\\n",
      "0                                               None   \n",
      "1  http://arxiv.org/licenses/nonexclusive-distrib...   \n",
      "2                                               None   \n",
      "3                                               None   \n",
      "4                                               None   \n",
      "\n",
      "                                            abstract  \\\n",
      "0    A fully differential calculation in perturba...   \n",
      "1    We describe a new algorithm, the $(k,\\ell)$-...   \n",
      "2    The evolution of Earth-Moon system is descri...   \n",
      "3    We show that a determinant of Stirling cycle...   \n",
      "4    In this paper we show how to compute the $\\L...   \n",
      "\n",
      "                                            versions update_date  \\\n",
      "0  [{'version': 'v1', 'created': 'Mon, 2 Apr 2007...  2008-11-26   \n",
      "1  [{'version': 'v1', 'created': 'Sat, 31 Mar 200...  2008-12-13   \n",
      "2  [{'version': 'v1', 'created': 'Sun, 1 Apr 2007...  2008-01-13   \n",
      "3  [{'version': 'v1', 'created': 'Sat, 31 Mar 200...  2007-05-23   \n",
      "4  [{'version': 'v1', 'created': 'Mon, 2 Apr 2007...  2013-10-15   \n",
      "\n",
      "                                      authors_parsed  \n",
      "0  [[Balázs, C., ], [Berger, E. L., ], [Nadolsky,...  \n",
      "1           [[Streinu, Ileana, ], [Theran, Louis, ]]  \n",
      "2                                 [[Pan, Hongjun, ]]  \n",
      "3                                [[Callan, David, ]]  \n",
      "4  [[Abu-Shammala, Wael, ], [Torchinsky, Alberto, ]]  \n"
     ]
    }
   ],
   "source": [
    "#Filter out NAN category\n",
    "df = df[df['categories'].notna()]\n",
    "#Filter out withdrawn papers\n",
    "df = df[df['abstract'].notna()]\n",
    "df = df[~df['abstract'].str.contains('withdrawn', case=False, regex=False)]\n",
    "print(df.head())"
   ]
  },
  {
   "cell_type": "code",
   "execution_count": 4,
   "metadata": {},
   "outputs": [
    {
     "data": {
      "text/plain": [
       "(2681257, 14)"
      ]
     },
     "execution_count": 4,
     "metadata": {},
     "output_type": "execute_result"
    }
   ],
   "source": [
    "df.shape"
   ]
  },
  {
   "cell_type": "markdown",
   "metadata": {},
   "source": [
    "# Import Vector Database and Model"
   ]
  },
  {
   "cell_type": "code",
   "execution_count": 5,
   "metadata": {},
   "outputs": [],
   "source": [
    "from qdrant_client import models, QdrantClient\n",
    "from sentence_transformers import SentenceTransformer"
   ]
  },
  {
   "cell_type": "markdown",
   "metadata": {},
   "source": [
    "# Create vector database client and model client"
   ]
  },
  {
   "cell_type": "code",
   "execution_count": 6,
   "metadata": {},
   "outputs": [],
   "source": [
    "model_encoder = SentenceTransformer('all-MiniLM-L6-v2')\n",
    "qdrant_client = QdrantClient(\":memory:\")"
   ]
  },
  {
   "cell_type": "markdown",
   "metadata": {},
   "source": [
    "Create collection to store "
   ]
  },
  {
   "cell_type": "code",
   "execution_count": 7,
   "metadata": {},
   "outputs": [
    {
     "name": "stdout",
     "output_type": "stream",
     "text": [
      "arxiv collection created successfully\n"
     ]
    },
    {
     "name": "stderr",
     "output_type": "stream",
     "text": [
      "/var/folders/w0/38fq1b_56633crmw8l8q9mgw0000gn/T/ipykernel_21332/3731503120.py:1: DeprecationWarning: `recreate_collection` method is deprecated and will be removed in the future. Use `collection_exists` to check collection existence and `create_collection` instead.\n",
      "  qdrant_client.recreate_collection(\n"
     ]
    }
   ],
   "source": [
    "qdrant_client.recreate_collection(\n",
    "    collection_name = \"arxiv\",\n",
    "    vectors_config = models.VectorParams(\n",
    "        #Note that for our model, this vector size is 384\n",
    "        size=model_encoder.get_sentence_embedding_dimension(),\n",
    "        distance=models.Distance.COSINE\n",
    "    )\n",
    ")\n",
    "if qdrant_client.collection_exists(collection_name=\"arxiv\"):\n",
    "    print(\"arxiv collection created successfully\")"
   ]
  },
  {
   "cell_type": "markdown",
   "metadata": {},
   "source": [
    "# Insert quadrant data into collection\n",
    "- Note to self: qdrant_client.upsert is used for bulk upload of points, while qdrant_client.insert is used for single point upload\n",
    "\n",
    "- Before uploading the vectorized data, we load the dataframe into a key value pair dictionary to enable convenient iteration."
   ]
  },
  {
   "cell_type": "code",
   "execution_count": 9,
   "metadata": {},
   "outputs": [],
   "source": [
    "#Convert the WHOLE dataframe to a dictionary\n",
    "#data_in_dict = df.to_dict(orient='records')\n",
    "\n",
    "#Convert sample of the dataframe to a dictionary\n",
    "sample_size=20000\n",
    "data_in_dict = df.head(sample_size).to_dict(orient='records')\n",
    "\n",
    "qdrant_client.upload_points(\n",
    "    collection_name = \"arxiv\",\n",
    "    points=[\n",
    "        models.PointStruct(\n",
    "            id = index,\n",
    "            payload=doc,\n",
    "            vector = model_encoder.encode(doc[\"abstract\"]),\n",
    "        )for index, doc in enumerate(data_in_dict)\n",
    "    ]\n",
    ")"
   ]
  },
  {
   "cell_type": "markdown",
   "metadata": {},
   "source": [
    "# Query"
   ]
  },
  {
   "cell_type": "code",
   "execution_count": 10,
   "metadata": {},
   "outputs": [],
   "source": [
    "user_prompt = \"I want a research paper that focuses on Graphics\"\n",
    "limit_search_to = 10\n",
    "#This will later be read from the user when the app is running on flask\n",
    "\n",
    "query_prompt = \"You are an AI agent searching for arXiv papers based on the following instructions: \"+user_prompt"
   ]
  },
  {
   "cell_type": "code",
   "execution_count": 11,
   "metadata": {},
   "outputs": [
    {
     "name": "stdout",
     "output_type": "stream",
     "text": [
      "TITLE: On the realignment criterion and beyond\n",
      "\n",
      " arXivID: 0705.2328\n",
      "\n",
      " AUTHORS: Cosmo Lupo\n",
      "\n",
      " ABSTRACT:   The content of this paper is now available as part of arXiv:0802.2019\n",
      "...\n",
      "\n",
      " ============break==========\n",
      "\n",
      "TITLE: A solid angle polynomial with negative coefficients\n",
      "\n",
      " arXivID: 0707.1825\n",
      "\n",
      " AUTHORS: Steven V. Sam\n",
      "\n",
      " ABSTRACT:   This article has been replaced by arXiv:0906.4031\n",
      "...\n",
      "\n",
      " ============break==========\n",
      "\n",
      "TITLE: Secondary invariants for Frechet algebras, quasihomomorphisms, and the\n",
      "  residue Chern character\n",
      "\n",
      " arXivID: 0706.1937\n",
      "\n",
      " AUTHORS: Denis Perrot\n",
      "\n",
      " ABSTRACT:   This paper has been replaced by arXiv:0804.1042 and arXiv:0804.1048\n",
      "...\n",
      "\n",
      " ============break==========\n",
      "\n",
      "TITLE: On the Energy-Momentum Problem in Static Einstein Universe\n",
      "\n",
      " arXivID: 0704.0525\n",
      "\n",
      " AUTHORS: Sezgin Aygun, Ismail Tarhan, Husnu Baysal\n",
      "\n",
      " ABSTRACT:   This paper has been removed by arXiv administrators because it plagiarizes\n",
      "gr-qc/0410004, gr-qc/06...\n",
      "\n",
      " ============break==========\n",
      "\n",
      "TITLE: Python for Education: Computational Methods for Nonlinear Systems\n",
      "\n",
      " arXivID: 0704.3182\n",
      "\n",
      " AUTHORS: Christopher R. Myers and James. P. Sethna\n",
      "\n",
      " ABSTRACT:   We describe a novel, interdisciplinary, computational methods course that\n",
      "uses Python and associat...\n",
      "\n",
      " ============break==========\n",
      "\n",
      "TITLE: Visualization, Exploration and Data Analysis of Complex Astrophysical\n",
      "  Data\n",
      "\n",
      " arXivID: 0707.2474\n",
      "\n",
      " AUTHORS: Marco Comparato, Ugo Becciani, Alessandro Costa, Bjorn Larsson, Bianca\n",
      "  Garilli, Claudio Gheller, John Taylor\n",
      "\n",
      " ABSTRACT:   In this paper we show how advanced visualization tools can help the\n",
      "researcher in investigating an...\n",
      "\n",
      " ============break==========\n",
      "\n",
      "TITLE: Balanced Virtual Humans Interacting with their Environment\n",
      "\n",
      " arXivID: 0707.3562\n",
      "\n",
      " AUTHORS: Antoine Rennuit (IRCCyN), Alain Micaelli (CEA/LIST), Xavier Merlhiot\n",
      "  (CEA/LIST), Claude Andriot (CEA/LIST), Fran\\c{c}ois Guillaume, Nicolas\n",
      "  Chevassus, Damien Chablat (IRCCyN), Patrick Chedmail (IRCCyN)\n",
      "\n",
      " ABSTRACT:   The animation of human avatars seems very successful; the computer graphics\n",
      "industry shows outstan...\n",
      "\n",
      " ============break==========\n",
      "\n",
      "TITLE: Le travail collaboratif dans le cadre d'un projet architectural\n",
      "\n",
      " arXivID: 0706.1780\n",
      "\n",
      " AUTHORS: Marie-France Ango-Obiang (SITE, Loria)\n",
      "\n",
      " ABSTRACT:   The analysis of the practices and the tendencies of the users at the time of\n",
      "the search for inform...\n",
      "\n",
      " ============break==========\n",
      "\n",
      "TITLE: Magnetized Quark and Strange Quark Matter in the Spherical Symmetric\n",
      "  Space-Time Admitting Conformal Motion\n",
      "\n",
      " arXivID: 0705.2930\n",
      "\n",
      " AUTHORS: Can Aktas and Ihsan Yilmaz\n",
      "\n",
      " ABSTRACT:   This paper has been removed by arXiv administrators because it plagiarizes\n",
      "astro-ph/0611537, astro...\n",
      "\n",
      " ============break==========\n",
      "\n",
      "TITLE: Self-Organization applied to Dynamic Network Layout\n",
      "\n",
      " arXivID: 0704.1748\n",
      "\n",
      " AUTHORS: Markus M. Geipel\n",
      "\n",
      " ABSTRACT:   As networks and their structure have become a major field of research, a\n",
      "strong demand for network...\n",
      "\n",
      " ============break==========\n",
      "\n"
     ]
    },
    {
     "name": "stderr",
     "output_type": "stream",
     "text": [
      "/var/folders/w0/38fq1b_56633crmw8l8q9mgw0000gn/T/ipykernel_21332/122301538.py:2: DeprecationWarning: `search` method is deprecated and will be removed in the future. Use `query_points` instead.\n",
      "  hits = qdrant_client.search(\n"
     ]
    }
   ],
   "source": [
    "#Search based on user prompt\n",
    "hits = qdrant_client.search(\n",
    "    collection_name = \"arxiv\",\n",
    "    query_vector=model_encoder.encode(query_prompt),\n",
    "    limit=limit_search_to\n",
    ")\n",
    "#Print Queried Outputs\n",
    "for hit in hits:\n",
    "    print(\"TITLE: \"+hit.payload[\"title\"]+'\\n\\n', \"arXivID: \"+hit.payload[\"id\"]+'\\n\\n', \"AUTHORS: \"+hit.payload[\"authors\"]+'\\n\\n', \"ABSTRACT: \"+hit.payload[\"abstract\"][0:100]+ '...' + '\\n\\n', '============break==========\\n')\n"
   ]
  },
  {
   "cell_type": "code",
   "execution_count": 12,
   "metadata": {},
   "outputs": [],
   "source": [
    "#TODO: Connect to local LLM using search result\n",
    "search_results = [hit.payload for hit in hits]"
   ]
  }
 ],
 "metadata": {
  "kernelspec": {
   "display_name": ".venv",
   "language": "python",
   "name": "python3"
  },
  "language_info": {
   "codemirror_mode": {
    "name": "ipython",
    "version": 3
   },
   "file_extension": ".py",
   "mimetype": "text/x-python",
   "name": "python",
   "nbconvert_exporter": "python",
   "pygments_lexer": "ipython3",
   "version": "3.13.0"
  }
 },
 "nbformat": 4,
 "nbformat_minor": 2
}
