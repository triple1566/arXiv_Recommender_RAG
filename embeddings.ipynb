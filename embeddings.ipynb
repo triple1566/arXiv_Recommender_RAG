{
 "cells": [
  {
   "cell_type": "markdown",
   "metadata": {},
   "source": [
    "Import Dataset from kaggle"
   ]
  },
  {
   "cell_type": "code",
   "execution_count": 3,
   "metadata": {},
   "outputs": [
    {
     "name": "stdout",
     "output_type": "stream",
     "text": [
      "Path to dataset files: /Users/leopard1566/.cache/kagglehub/datasets/Cornell-University/arxiv/versions/222\n"
     ]
    }
   ],
   "source": [
    "import kagglehub\n",
    "\n",
    "# Download latest version\n",
    "path = kagglehub.dataset_download(\"Cornell-University/arxiv\")\n",
    "\n",
    "print(\"Path to dataset files:\", path)"
   ]
  },
  {
   "cell_type": "markdown",
   "metadata": {},
   "source": [
    "Read into Pandas DataFrame"
   ]
  },
  {
   "cell_type": "code",
   "execution_count": 4,
   "metadata": {},
   "outputs": [
    {
     "name": "stdout",
     "output_type": "stream",
     "text": [
      "          id           submitter  \\\n",
      "0  0704.0001      Pavel Nadolsky   \n",
      "1  0704.0002        Louis Theran   \n",
      "2  0704.0003         Hongjun Pan   \n",
      "3  0704.0004        David Callan   \n",
      "4  0704.0005  Alberto Torchinsky   \n",
      "\n",
      "                                             authors  \\\n",
      "0  C. Bal\\'azs, E. L. Berger, P. M. Nadolsky, C.-...   \n",
      "1                    Ileana Streinu and Louis Theran   \n",
      "2                                        Hongjun Pan   \n",
      "3                                       David Callan   \n",
      "4           Wael Abu-Shammala and Alberto Torchinsky   \n",
      "\n",
      "                                               title  \\\n",
      "0  Calculation of prompt diphoton production cros...   \n",
      "1           Sparsity-certifying Graph Decompositions   \n",
      "2  The evolution of the Earth-Moon system based o...   \n",
      "3  A determinant of Stirling cycle numbers counts...   \n",
      "4  From dyadic $\\Lambda_{\\alpha}$ to $\\Lambda_{\\a...   \n",
      "\n",
      "                                  comments  \\\n",
      "0  37 pages, 15 figures; published version   \n",
      "1    To appear in Graphs and Combinatorics   \n",
      "2                      23 pages, 3 figures   \n",
      "3                                 11 pages   \n",
      "4                                     None   \n",
      "\n",
      "                                 journal-ref                         doi  \\\n",
      "0                   Phys.Rev.D76:013009,2007  10.1103/PhysRevD.76.013009   \n",
      "1                                       None                        None   \n",
      "2                                       None                        None   \n",
      "3                                       None                        None   \n",
      "4  Illinois J. Math. 52 (2008) no.2, 681-689                        None   \n",
      "\n",
      "          report-no       categories  \\\n",
      "0  ANL-HEP-PR-07-12           hep-ph   \n",
      "1              None    math.CO cs.CG   \n",
      "2              None   physics.gen-ph   \n",
      "3              None          math.CO   \n",
      "4              None  math.CA math.FA   \n",
      "\n",
      "                                             license  \\\n",
      "0                                               None   \n",
      "1  http://arxiv.org/licenses/nonexclusive-distrib...   \n",
      "2                                               None   \n",
      "3                                               None   \n",
      "4                                               None   \n",
      "\n",
      "                                            abstract  \\\n",
      "0    A fully differential calculation in perturba...   \n",
      "1    We describe a new algorithm, the $(k,\\ell)$-...   \n",
      "2    The evolution of Earth-Moon system is descri...   \n",
      "3    We show that a determinant of Stirling cycle...   \n",
      "4    In this paper we show how to compute the $\\L...   \n",
      "\n",
      "                                            versions update_date  \\\n",
      "0  [{'version': 'v1', 'created': 'Mon, 2 Apr 2007...  2008-11-26   \n",
      "1  [{'version': 'v1', 'created': 'Sat, 31 Mar 200...  2008-12-13   \n",
      "2  [{'version': 'v1', 'created': 'Sun, 1 Apr 2007...  2008-01-13   \n",
      "3  [{'version': 'v1', 'created': 'Sat, 31 Mar 200...  2007-05-23   \n",
      "4  [{'version': 'v1', 'created': 'Mon, 2 Apr 2007...  2013-10-15   \n",
      "\n",
      "                                      authors_parsed  \n",
      "0  [[Balázs, C., ], [Berger, E. L., ], [Nadolsky,...  \n",
      "1           [[Streinu, Ileana, ], [Theran, Louis, ]]  \n",
      "2                                 [[Pan, Hongjun, ]]  \n",
      "3                                [[Callan, David, ]]  \n",
      "4  [[Abu-Shammala, Wael, ], [Torchinsky, Alberto, ]]  \n"
     ]
    }
   ],
   "source": [
    "import pandas as pd\n",
    "df = pd.read_json(path+'/arxiv-metadata-oai-snapshot.json', lines=True)\n",
    "print(df.head())"
   ]
  },
  {
   "cell_type": "markdown",
   "metadata": {},
   "source": [
    "Check for NAN in categories"
   ]
  },
  {
   "cell_type": "code",
   "execution_count": 6,
   "metadata": {},
   "outputs": [
    {
     "name": "stdout",
     "output_type": "stream",
     "text": [
      "             id                     submitter  \\\n",
      "1266  0704.1267            Laurence Likforman   \n",
      "3634  0704.3635  Fulufhelo Vincent Nelwamondo   \n",
      "4201  0705.0199                 Erik Berglund   \n",
      "4216  0705.0214                  Mourad Zerai   \n",
      "4451  0705.0449       Pierre-Francois Marteau   \n",
      "\n",
      "                                                authors  \\\n",
      "1266  Laurence Likforman-Sulem, Abderrazak Zahour, B...   \n",
      "3634  Fulufhelo Vincent Nelwamondo and Tshilidzi Mar...   \n",
      "4201                       Erik Berglund, Joaquin Sitte   \n",
      "4216                        Mourad Zerai, Maher Moakher   \n",
      "4451  Pierre-Fran\\c{c}ois Marteau (VALORIA), Gilbas ...   \n",
      "\n",
      "                                                  title  \\\n",
      "1266  Text Line Segmentation of Historical Documents...   \n",
      "3634     Rough Sets Computations to Impute Missing Data   \n",
      "4201   The Parameter-Less Self-Organizing Map algorithm   \n",
      "4216  Riemannian level-set methods for tensor-valued...   \n",
      "4451  Multiresolution Approximation of Polygonal Cur...   \n",
      "\n",
      "                                               comments  \\\n",
      "1266  25 pages, submitted version, To appear in Inte...   \n",
      "3634                                           19 pages   \n",
      "4201  29 pages, 27 figures. Based on publication in ...   \n",
      "4216  11 pages, 03 figures, to be published in the p...   \n",
      "4451                                               None   \n",
      "\n",
      "                                            journal-ref  \\\n",
      "1266            Vol. 9, no 2-4, April 2007, pp. 123-138   \n",
      "3634                                               None   \n",
      "4201  IEEE Transactions on Neural Networks, 2006 v.1...   \n",
      "4216                                               None   \n",
      "4451                                               None   \n",
      "\n",
      "                            doi report-no         categories license  \\\n",
      "1266  10.1007/s10032-006-0023-z      None              cs.CV    None   \n",
      "3634                       None      None        cs.CV cs.IR    None   \n",
      "4201                       None      None  cs.NE cs.AI cs.CV    None   \n",
      "4216                       None      None              cs.CV    None   \n",
      "4451                       None      None              cs.CV    None   \n",
      "\n",
      "                                               abstract  \\\n",
      "1266    There is a huge amount of historical documen...   \n",
      "3634    Many techniques for handling missing data ha...   \n",
      "4201    The Parameter-Less Self-Organizing Map (PLSO...   \n",
      "4216    We present a novel approach for the derivati...   \n",
      "4451    We propose a new algorithm to the problem of...   \n",
      "\n",
      "                                               versions update_date  \\\n",
      "1266  [{'version': 'v1', 'created': 'Tue, 10 Apr 200...  2007-05-23   \n",
      "3634  [{'version': 'v1', 'created': 'Thu, 26 Apr 200...  2007-05-23   \n",
      "4201  [{'version': 'v1', 'created': 'Wed, 2 May 2007...  2007-05-23   \n",
      "4216  [{'version': 'v1', 'created': 'Wed, 2 May 2007...  2007-05-23   \n",
      "4451  [{'version': 'v1', 'created': 'Thu, 3 May 2007...  2007-05-23   \n",
      "\n",
      "                                         authors_parsed  \n",
      "1266  [[Likforman-Sulem, Laurence, ], [Zahour, Abder...  \n",
      "3634  [[Nelwamondo, Fulufhelo Vincent, ], [Marwala, ...  \n",
      "4201           [[Berglund, Erik, ], [Sitte, Joaquin, ]]  \n",
      "4216            [[Zerai, Mourad, ], [Moakher, Maher, ]]  \n",
      "4451  [[Marteau, Pierre-François, , VALORIA], [Ménie...  \n"
     ]
    }
   ],
   "source": [
    "df = df[df['categories'].notna()]\n",
    "print(df.head())"
   ]
  },
  {
   "cell_type": "markdown",
   "metadata": {},
   "source": [
    "Import Vector Database and Model"
   ]
  },
  {
   "cell_type": "code",
   "execution_count": 7,
   "metadata": {},
   "outputs": [],
   "source": [
    "from qdrant_client import models, QdrantClient\n",
    "from sentence_transformers import SentenceTransformer"
   ]
  },
  {
   "cell_type": "markdown",
   "metadata": {},
   "source": [
    "Create vector database client and model client"
   ]
  },
  {
   "cell_type": "code",
   "execution_count": 10,
   "metadata": {},
   "outputs": [],
   "source": [
    "model_encoder = SentenceTransformer('all-MiniLM-L6-v2')\n",
    "qdrant_client = QdrantClient(\":memory:\")"
   ]
  },
  {
   "cell_type": "code",
   "execution_count": null,
   "metadata": {},
   "outputs": [],
   "source": []
  }
 ],
 "metadata": {
  "kernelspec": {
   "display_name": "venv",
   "language": "python",
   "name": "python3"
  },
  "language_info": {
   "codemirror_mode": {
    "name": "ipython",
    "version": 3
   },
   "file_extension": ".py",
   "mimetype": "text/x-python",
   "name": "python",
   "nbconvert_exporter": "python",
   "pygments_lexer": "ipython3",
   "version": "3.13.0"
  }
 },
 "nbformat": 4,
 "nbformat_minor": 2
}
